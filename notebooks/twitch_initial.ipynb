{
 "cells": [
  {
   "cell_type": "code",
   "execution_count": 1,
   "metadata": {},
   "outputs": [],
   "source": [
    "import os\n",
    "import pandas as pd\n",
    "from glob import glob"
   ]
  },
  {
   "cell_type": "code",
   "execution_count": 2,
   "metadata": {},
   "outputs": [],
   "source": [
    "#method 1 \n",
    "#globbing to list all files matching pattern\n",
    "#stats_2020 = sorted(glob('../data/narrowed/twitch/stats/2020/*'))\n",
    "#stats_2020"
   ]
  },
  {
   "cell_type": "code",
   "execution_count": 3,
   "metadata": {},
   "outputs": [],
   "source": [
    "#using a genenerator expression to read the files, assign(), create new column, and concat() to combine dfs\n",
    "#pd.concat((pd.read_csv(file).assign(filename = stats)\n",
    "           #for stats in stats_2020), ignore_index=True)"
   ]
  },
  {
   "cell_type": "code",
   "execution_count": 4,
   "metadata": {},
   "outputs": [
    {
     "data": {
      "text/plain": [
       "'\\n\\ndef concatenate(indir=\"/Users/home/Desktop/nss_data_analytics/capstone/streaming_analysis_amid_pandemic/data/narrowed/twitch/stats/2020\",outfile=\"/Users/home/Desktop/nss_data_analytics/capstone/streaming_analysis_amid_pandemic/data/tidy/twitch/concatenated.csv\"):\\n    os.chdir(indir)\\n    fileList=glob.glob(\"*.csv\")\\n    dfList=[]\\n    colnames=[\"name\",\\n              \"rank\",\\n              \"game\",\\n              \"watch_time\",\\n              \"stream_time\",\\n              \"peak_viewers\",\\n              \"peak_channels\",\\n              \"streamers\",\\n              \"average_viewers\",\\n              \"average_channels\",\\n              \"average_viewer_ratio\",\\n              \"name\"]\\n    \\n    #looping\\n    for filname in fileList:\\n        print(filname)\\n        df=pandas.read_csv(filename,header=None)\\n        dfList.append(df)\\n    concatDf=pandasdas.concat(dfList,axis=0)\\n    concatDf.columns=colnames\\n    concat.to_csv(outfile,index=None)\\n\\n'"
      ]
     },
     "execution_count": 4,
     "metadata": {},
     "output_type": "execute_result"
    }
   ],
   "source": [
    "#method 2 \n",
    "#making a concatination function to multiple csv files into one csv\n",
    "\n",
    "\"\"\"\n",
    "\n",
    "def concatenate(indir=\"/Users/home/Desktop/nss_data_analytics/capstone/streaming_analysis_amid_pandemic/data/narrowed/twitch/stats/2020\",outfile=\"/Users/home/Desktop/nss_data_analytics/capstone/streaming_analysis_amid_pandemic/data/tidy/twitch/concatenated.csv\"):\n",
    "    os.chdir(indir)\n",
    "    fileList=glob.glob(\"*.csv\")\n",
    "    dfList=[]\n",
    "    colnames=[\"name\",\n",
    "              \"rank\",\n",
    "              \"game\",\n",
    "              \"watch_time\",\n",
    "              \"stream_time\",\n",
    "              \"peak_viewers\",\n",
    "              \"peak_channels\",\n",
    "              \"streamers\",\n",
    "              \"average_viewers\",\n",
    "              \"average_channels\",\n",
    "              \"average_viewer_ratio\",\n",
    "              \"name\"]\n",
    "    \n",
    "    #looping\n",
    "    for filname in fileList:\n",
    "        print(filname)\n",
    "        df=pandas.read_csv(filename,header=None)\n",
    "        dfList.append(df)\n",
    "    concatDf=pandasdas.concat(dfList,axis=0)\n",
    "    concatDf.columns=colnames\n",
    "    concat.to_csv(outfile,index=None)\n",
    "\n",
    "\"\"\""
   ]
  },
  {
   "cell_type": "code",
   "execution_count": 5,
   "metadata": {},
   "outputs": [],
   "source": [
    "#runfile(\"/Users/home/Desktop/nss_data_analytics/capstone/streaming_analysis_amid_pandemic/data/tidy/twitch/concatenated.csv\")"
   ]
  },
  {
   "cell_type": "code",
   "execution_count": 7,
   "metadata": {},
   "outputs": [],
   "source": [
    "#method 3"
   ]
  },
  {
   "cell_type": "code",
   "execution_count": 12,
   "metadata": {},
   "outputs": [
    {
     "ename": "AttributeError",
     "evalue": "'function' object has no attribute 'glob'",
     "output_type": "error",
     "traceback": [
      "\u001b[0;31m---------------------------------------------------------------------------\u001b[0m",
      "\u001b[0;31mAttributeError\u001b[0m                            Traceback (most recent call last)",
      "\u001b[0;32m<ipython-input-12-5f447bf877c1>\u001b[0m in \u001b[0;36m<module>\u001b[0;34m\u001b[0m\n\u001b[1;32m      1\u001b[0m \u001b[0mpath\u001b[0m \u001b[0;34m=\u001b[0m \u001b[0;34mr\"Users/home/Desktop/nss_data_analytics/capstone/streaming_analysis_amid_pandemic/data/narrowed/twitch/stats/year\"\u001b[0m\u001b[0;34m\u001b[0m\u001b[0;34m\u001b[0m\u001b[0m\n\u001b[0;32m----> 2\u001b[0;31m \u001b[0mall_files\u001b[0m \u001b[0;34m=\u001b[0m \u001b[0mglob\u001b[0m\u001b[0;34m.\u001b[0m\u001b[0mglob\u001b[0m\u001b[0;34m(\u001b[0m\u001b[0mpath\u001b[0m \u001b[0;34m+\u001b[0m \u001b[0;34m\"/*.csv\"\u001b[0m\u001b[0;34m)\u001b[0m\u001b[0;34m\u001b[0m\u001b[0;34m\u001b[0m\u001b[0m\n\u001b[0m\u001b[1;32m      3\u001b[0m \u001b[0;34m\u001b[0m\u001b[0m\n\u001b[1;32m      4\u001b[0m \u001b[0mli\u001b[0m \u001b[0;34m=\u001b[0m \u001b[0;34m[\u001b[0m\u001b[0;34m]\u001b[0m\u001b[0;34m\u001b[0m\u001b[0;34m\u001b[0m\u001b[0m\n\u001b[1;32m      5\u001b[0m \u001b[0;34m\u001b[0m\u001b[0m\n",
      "\u001b[0;31mAttributeError\u001b[0m: 'function' object has no attribute 'glob'"
     ]
    }
   ],
   "source": [
    "path = r\"Users/home/Desktop/nss_data_analytics/capstone/streaming_analysis_amid_pandemic/data/narrowed/twitch/stats/year\" \n",
    "all_files = glob.glob(path + \"/*.csv\")\n",
    "\n",
    "li = []\n",
    "\n",
    "for filename in all_files:\n",
    "    df = pd.read_csv(filename, index_col=None, header=0)\n",
    "    li.append(df)\n",
    "\n",
    "frame = pd.concat(li, axis=0, ignore_index=True)"
   ]
  },
  {
   "cell_type": "code",
   "execution_count": 13,
   "metadata": {},
   "outputs": [],
   "source": [
    "filenames = glob('Users/home/Desktop/nss_data_analytics/capstone/streaming_analysis_amid_pandemic/data/narrowed/twitch/stats/year*.csv')\n",
    "dataframes = [pd.read_csv(f) for f in filenames]"
   ]
  },
  {
   "cell_type": "code",
   "execution_count": 15,
   "metadata": {},
   "outputs": [
    {
     "data": {
      "text/plain": [
       "[]"
      ]
     },
     "execution_count": 15,
     "metadata": {},
     "output_type": "execute_result"
    }
   ],
   "source": []
  },
  {
   "cell_type": "code",
   "execution_count": null,
   "metadata": {},
   "outputs": [],
   "source": []
  }
 ],
 "metadata": {
  "kernelspec": {
   "display_name": "Python 3",
   "language": "python",
   "name": "python3"
  },
  "language_info": {
   "codemirror_mode": {
    "name": "ipython",
    "version": 3
   },
   "file_extension": ".py",
   "mimetype": "text/x-python",
   "name": "python",
   "nbconvert_exporter": "python",
   "pygments_lexer": "ipython3",
   "version": "3.7.4"
  }
 },
 "nbformat": 4,
 "nbformat_minor": 2
}
