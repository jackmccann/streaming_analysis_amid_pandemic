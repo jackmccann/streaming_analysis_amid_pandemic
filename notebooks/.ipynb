{
 "cells": [
  {
   "cell_type": "code",
   "execution_count": 7,
   "metadata": {},
   "outputs": [],
   "source": [
    "import os\n",
    "import pandas as pd\n",
    "from glob import glob"
   ]
  },
  {
   "cell_type": "code",
   "execution_count": 8,
   "metadata": {},
   "outputs": [],
   "source": [
    "#globbing to list all files matching pattern\n",
    "#stats_2020 = sorted(glob('../data/narrowed/twitch/stats/2020/*'))\n",
    "#stats_2020"
   ]
  },
  {
   "cell_type": "code",
   "execution_count": 9,
   "metadata": {},
   "outputs": [],
   "source": [
    "#using a genenerator expression to read the files, assign(), create new column, and concat() to combine dfs\n",
    "#pd.concat((pd.read_csv(file).assign(filename = stats)\n",
    "           #for file in stats_2020), ignore_index=True)"
   ]
  },
  {
   "cell_type": "code",
   "execution_count": null,
   "metadata": {},
   "outputs": [],
   "source": []
  },
  {
   "cell_type": "code",
   "execution_count": 22,
   "metadata": {},
   "outputs": [],
   "source": [
    "#making a concatination function to multiple csv files into one csv\n",
    "\n",
    "def concatenate(indir=\"/Users/home/Desktop/nss_data_analytics/capstone/streaming_analysis_amid_pandemic/data/narrowed/twitch/stats/2020\",outfile=\"/Users/home/Desktop/nss_data_analytics/capstone/streaming_analysis_amid_pandemic/data/tidy/twitch/concatenated.csv\"):\n",
    "    os.chdir(indir)\n",
    "    fileList=glob.glob(\"*.csv\")\n",
    "    dfList=[]\n",
    "    colnames=[\"name\",\n",
    "              \"rank\",\n",
    "              \"game\",\n",
    "              \"watch_time\",\n",
    "              \"stream_time\",\n",
    "              \"peak_viewers\",\n",
    "              \"peak_channels\",\n",
    "              \"streamers\",\n",
    "              \"average_viewers\",\n",
    "              \"average_channels\",\n",
    "              \"average_viewer_ratio\",\n",
    "              \"name\"]\n",
    "    \n",
    "    #looping\n",
    "    for filname in fileList:\n",
    "        print(filname)\n",
    "        df=pandas.read_csv(filename,header=None)\n",
    "        dfList.append(df)\n",
    "    concatDf=pandasdas.concat(dfList,axis=0)\n",
    "    concatDf.columns=colnames\n",
    "    concat.to_csv(outfile,index=None)"
   ]
  },
  {
   "cell_type": "code",
   "execution_count": 19,
   "metadata": {},
   "outputs": [
    {
     "ename": "NameError",
     "evalue": "name 'runfile' is not defined",
     "output_type": "error",
     "traceback": [
      "\u001b[0;31m---------------------------------------------------------------------------\u001b[0m",
      "\u001b[0;31mNameError\u001b[0m                                 Traceback (most recent call last)",
      "\u001b[0;32m<ipython-input-19-8db26c3bcf66>\u001b[0m in \u001b[0;36m<module>\u001b[0;34m\u001b[0m\n\u001b[0;32m----> 1\u001b[0;31m \u001b[0mrunfile\u001b[0m\u001b[0;34m(\u001b[0m\u001b[0;34m\"/Users/home/Desktop/nss_data_analytics/capstone/streaming_analysis_amid_pandemic/data/tidy/twitch/concatenated.csv\"\u001b[0m\u001b[0;34m)\u001b[0m\u001b[0;34m\u001b[0m\u001b[0;34m\u001b[0m\u001b[0m\n\u001b[0m",
      "\u001b[0;31mNameError\u001b[0m: name 'runfile' is not defined"
     ]
    }
   ],
   "source": [
    "runfile(\"/Users/home/Desktop/nss_data_analytics/capstone/streaming_analysis_amid_pandemic/data/tidy/twitch/concatenated.csv\")"
   ]
  },
  {
   "cell_type": "code",
   "execution_count": null,
   "metadata": {},
   "outputs": [],
   "source": []
  }
 ],
 "metadata": {
  "kernelspec": {
   "display_name": "Python 3",
   "language": "python",
   "name": "python3"
  },
  "language_info": {
   "codemirror_mode": {
    "name": "ipython",
    "version": 3
   },
   "file_extension": ".py",
   "mimetype": "text/x-python",
   "name": "python",
   "nbconvert_exporter": "python",
   "pygments_lexer": "ipython3",
   "version": "3.7.6"
  }
 },
 "nbformat": 4,
 "nbformat_minor": 2
}
