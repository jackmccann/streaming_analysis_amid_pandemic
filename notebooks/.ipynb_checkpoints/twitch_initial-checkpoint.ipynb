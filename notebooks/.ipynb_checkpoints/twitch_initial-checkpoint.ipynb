{
 "cells": [
  {
   "cell_type": "code",
   "execution_count": 29,
   "metadata": {},
   "outputs": [],
   "source": [
    "import os\n",
    "import pandas as pd\n",
    "from glob import glob"
   ]
  },
  {
   "cell_type": "code",
   "execution_count": 31,
   "metadata": {},
   "outputs": [
    {
     "data": {
      "text/plain": [
       "[]"
      ]
     },
     "execution_count": 31,
     "metadata": {},
     "output_type": "execute_result"
    }
   ],
   "source": [
    "#globbing to list all files matching pattern\n",
    "stats_2020 = sorted(glob('../data/narrowed/twitch/stats/2020/*'))\n",
    "stats_2020"
   ]
  },
  {
   "cell_type": "code",
   "execution_count": 37,
   "metadata": {},
   "outputs": [
    {
     "ename": "ValueError",
     "evalue": "No objects to concatenate",
     "output_type": "error",
     "traceback": [
      "\u001b[0;31m---------------------------------------------------------------------------\u001b[0m",
      "\u001b[0;31mValueError\u001b[0m                                Traceback (most recent call last)",
      "\u001b[0;32m<ipython-input-37-3ff8720ea98f>\u001b[0m in \u001b[0;36m<module>\u001b[0;34m\u001b[0m\n\u001b[1;32m      1\u001b[0m \u001b[0;31m#using a genenerator expression to read the files, assign(), create new column, and concat() to combine dfs\u001b[0m\u001b[0;34m\u001b[0m\u001b[0;34m\u001b[0m\u001b[0;34m\u001b[0m\u001b[0m\n\u001b[1;32m      2\u001b[0m pd.concat((pd.read_csv(file).assign(filename = stats)\n\u001b[0;32m----> 3\u001b[0;31m            for stats in stats_2020), ignore_index=True)\n\u001b[0m",
      "\u001b[0;32m/opt/anaconda3/envs/geospatial/lib/python3.7/site-packages/pandas/core/reshape/concat.py\u001b[0m in \u001b[0;36mconcat\u001b[0;34m(objs, axis, join, ignore_index, keys, levels, names, verify_integrity, sort, copy)\u001b[0m\n\u001b[1;32m    279\u001b[0m         \u001b[0mverify_integrity\u001b[0m\u001b[0;34m=\u001b[0m\u001b[0mverify_integrity\u001b[0m\u001b[0;34m,\u001b[0m\u001b[0;34m\u001b[0m\u001b[0;34m\u001b[0m\u001b[0m\n\u001b[1;32m    280\u001b[0m         \u001b[0mcopy\u001b[0m\u001b[0;34m=\u001b[0m\u001b[0mcopy\u001b[0m\u001b[0;34m,\u001b[0m\u001b[0;34m\u001b[0m\u001b[0;34m\u001b[0m\u001b[0m\n\u001b[0;32m--> 281\u001b[0;31m         \u001b[0msort\u001b[0m\u001b[0;34m=\u001b[0m\u001b[0msort\u001b[0m\u001b[0;34m,\u001b[0m\u001b[0;34m\u001b[0m\u001b[0;34m\u001b[0m\u001b[0m\n\u001b[0m\u001b[1;32m    282\u001b[0m     )\n\u001b[1;32m    283\u001b[0m \u001b[0;34m\u001b[0m\u001b[0m\n",
      "\u001b[0;32m/opt/anaconda3/envs/geospatial/lib/python3.7/site-packages/pandas/core/reshape/concat.py\u001b[0m in \u001b[0;36m__init__\u001b[0;34m(self, objs, axis, join, keys, levels, names, ignore_index, verify_integrity, copy, sort)\u001b[0m\n\u001b[1;32m    327\u001b[0m \u001b[0;34m\u001b[0m\u001b[0m\n\u001b[1;32m    328\u001b[0m         \u001b[0;32mif\u001b[0m \u001b[0mlen\u001b[0m\u001b[0;34m(\u001b[0m\u001b[0mobjs\u001b[0m\u001b[0;34m)\u001b[0m \u001b[0;34m==\u001b[0m \u001b[0;36m0\u001b[0m\u001b[0;34m:\u001b[0m\u001b[0;34m\u001b[0m\u001b[0;34m\u001b[0m\u001b[0m\n\u001b[0;32m--> 329\u001b[0;31m             \u001b[0;32mraise\u001b[0m \u001b[0mValueError\u001b[0m\u001b[0;34m(\u001b[0m\u001b[0;34m\"No objects to concatenate\"\u001b[0m\u001b[0;34m)\u001b[0m\u001b[0;34m\u001b[0m\u001b[0;34m\u001b[0m\u001b[0m\n\u001b[0m\u001b[1;32m    330\u001b[0m \u001b[0;34m\u001b[0m\u001b[0m\n\u001b[1;32m    331\u001b[0m         \u001b[0;32mif\u001b[0m \u001b[0mkeys\u001b[0m \u001b[0;32mis\u001b[0m \u001b[0;32mNone\u001b[0m\u001b[0;34m:\u001b[0m\u001b[0;34m\u001b[0m\u001b[0;34m\u001b[0m\u001b[0m\n",
      "\u001b[0;31mValueError\u001b[0m: No objects to concatenate"
     ]
    }
   ],
   "source": [
    "#using a genenerator expression to read the files, assign(), create new column, and concat() to combine dfs\n",
    "pd.concat((pd.read_csv(file).assign(filename = stats)\n",
    "           for stats in stats_2020), ignore_index=True)"
   ]
  },
  {
   "cell_type": "code",
   "execution_count": null,
   "metadata": {},
   "outputs": [],
   "source": []
  },
  {
   "cell_type": "code",
   "execution_count": 28,
   "metadata": {},
   "outputs": [
    {
     "data": {
      "text/plain": [
       "'\\n\\ndef concatenate(indir=\"/Users/home/Desktop/nss_data_analytics/capstone/streaming_analysis_amid_pandemic/data/narrowed/twitch/stats/2020\",outfile=\"/Users/home/Desktop/nss_data_analytics/capstone/streaming_analysis_amid_pandemic/data/tidy/twitch/concatenated.csv\"):\\n    os.chdir(indir)\\n    fileList=glob.glob(\"*.csv\")\\n    dfList=[]\\n    colnames=[\"name\",\\n              \"rank\",\\n              \"game\",\\n              \"watch_time\",\\n              \"stream_time\",\\n              \"peak_viewers\",\\n              \"peak_channels\",\\n              \"streamers\",\\n              \"average_viewers\",\\n              \"average_channels\",\\n              \"average_viewer_ratio\",\\n              \"name\"]\\n    \\n    #looping\\n    for filname in fileList:\\n        print(filname)\\n        df=pandas.read_csv(filename,header=None)\\n        dfList.append(df)\\n    concatDf=pandasdas.concat(dfList,axis=0)\\n    concatDf.columns=colnames\\n    concat.to_csv(outfile,index=None)\\n\\n'"
      ]
     },
     "execution_count": 28,
     "metadata": {},
     "output_type": "execute_result"
    }
   ],
   "source": [
    "#making a concatination function to multiple csv files into one csv\n",
    "\n",
    "\"\"\"\n",
    "\n",
    "def concatenate(indir=\"/Users/home/Desktop/nss_data_analytics/capstone/streaming_analysis_amid_pandemic/data/narrowed/twitch/stats/2020\",outfile=\"/Users/home/Desktop/nss_data_analytics/capstone/streaming_analysis_amid_pandemic/data/tidy/twitch/concatenated.csv\"):\n",
    "    os.chdir(indir)\n",
    "    fileList=glob.glob(\"*.csv\")\n",
    "    dfList=[]\n",
    "    colnames=[\"name\",\n",
    "              \"rank\",\n",
    "              \"game\",\n",
    "              \"watch_time\",\n",
    "              \"stream_time\",\n",
    "              \"peak_viewers\",\n",
    "              \"peak_channels\",\n",
    "              \"streamers\",\n",
    "              \"average_viewers\",\n",
    "              \"average_channels\",\n",
    "              \"average_viewer_ratio\",\n",
    "              \"name\"]\n",
    "    \n",
    "    #looping\n",
    "    for filname in fileList:\n",
    "        print(filname)\n",
    "        df=pandas.read_csv(filename,header=None)\n",
    "        dfList.append(df)\n",
    "    concatDf=pandasdas.concat(dfList,axis=0)\n",
    "    concatDf.columns=colnames\n",
    "    concat.to_csv(outfile,index=None)\n",
    "\n",
    "\"\"\""
   ]
  },
  {
   "cell_type": "code",
   "execution_count": 26,
   "metadata": {},
   "outputs": [],
   "source": [
    "#runfile(\"/Users/home/Desktop/nss_data_analytics/capstone/streaming_analysis_amid_pandemic/data/tidy/twitch/concatenated.csv\")"
   ]
  },
  {
   "cell_type": "code",
   "execution_count": null,
   "metadata": {},
   "outputs": [],
   "source": []
  },
  {
   "cell_type": "code",
   "execution_count": null,
   "metadata": {},
   "outputs": [],
   "source": [
    "bp_data = pd.read_csv(\"path/to/file.csv\", header=1, delim_whitespace=True)"
   ]
  }
 ],
 "metadata": {
  "kernelspec": {
   "display_name": "Python 3",
   "language": "python",
   "name": "python3"
  },
  "language_info": {
   "codemirror_mode": {
    "name": "ipython",
    "version": 3
   },
   "file_extension": ".py",
   "mimetype": "text/x-python",
   "name": "python",
   "nbconvert_exporter": "python",
   "pygments_lexer": "ipython3",
   "version": "3.7.6"
  }
 },
 "nbformat": 4,
 "nbformat_minor": 2
}
